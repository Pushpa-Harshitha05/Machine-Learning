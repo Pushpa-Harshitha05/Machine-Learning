{
  "nbformat": 4,
  "nbformat_minor": 0,
  "metadata": {
    "colab": {
      "provenance": [],
      "authorship_tag": "ABX9TyObxXrV0zSA6WM8wW700UnY",
      "include_colab_link": true
    },
    "kernelspec": {
      "name": "python3",
      "display_name": "Python 3"
    },
    "language_info": {
      "name": "python"
    }
  },
  "cells": [
    {
      "cell_type": "markdown",
      "metadata": {
        "id": "view-in-github",
        "colab_type": "text"
      },
      "source": [
        "<a href=\"https://colab.research.google.com/github/Pushpa-Harshitha05/Machine-Learning/blob/main/Tensors.ipynb\" target=\"_parent\"><img src=\"https://colab.research.google.com/assets/colab-badge.svg\" alt=\"Open In Colab\"/></a>"
      ]
    },
    {
      "cell_type": "markdown",
      "source": [
        "<h1>Tensors</h1>"
      ],
      "metadata": {
        "id": "42AX1PhUCJ8G"
      }
    },
    {
      "cell_type": "markdown",
      "source": [
        "<h4>multi-dimensional array used to represent data in ml and dl. fundamental data structure in tensorflow and pytorch.<br> Tensor is a generalization of scalars(0D tensor), vectors(1D tensor) and matrices(2D tensor) and higher dimensions(nD tensor).</h4>"
      ],
      "metadata": {
        "id": "2tlsK1QiCMKe"
      }
    },
    {
      "cell_type": "code",
      "source": [
        "import numpy as np"
      ],
      "metadata": {
        "id": "jsl5CWJgG-kd"
      },
      "execution_count": 8,
      "outputs": []
    },
    {
      "cell_type": "code",
      "source": [
        "# scalars (0D tensor)\n",
        "\n",
        "a = np.array(5)\n",
        "a"
      ],
      "metadata": {
        "colab": {
          "base_uri": "https://localhost:8080/"
        },
        "id": "CdUfgPslCOjk",
        "outputId": "fd697d62-c60a-4e47-8036-9759985de68d"
      },
      "execution_count": 9,
      "outputs": [
        {
          "output_type": "execute_result",
          "data": {
            "text/plain": [
              "array(5)"
            ]
          },
          "metadata": {},
          "execution_count": 9
        }
      ]
    },
    {
      "cell_type": "code",
      "source": [
        "a.ndim  # dimension of scalar is 0 (so, 0D tensor)."
      ],
      "metadata": {
        "colab": {
          "base_uri": "https://localhost:8080/"
        },
        "id": "R-49YW2aHBpv",
        "outputId": "8115a7c2-272e-4be1-97cc-e14ff201ad8e"
      },
      "execution_count": 10,
      "outputs": [
        {
          "output_type": "execute_result",
          "data": {
            "text/plain": [
              "0"
            ]
          },
          "metadata": {},
          "execution_count": 10
        }
      ]
    },
    {
      "cell_type": "code",
      "source": [
        "# vectors\n",
        "\n",
        "arr = np.array([1,2,3,4])\n",
        "arr"
      ],
      "metadata": {
        "colab": {
          "base_uri": "https://localhost:8080/"
        },
        "id": "0VSFWzeRHEHZ",
        "outputId": "f22879b7-53cd-4f39-b02a-666991575a8e"
      },
      "execution_count": 11,
      "outputs": [
        {
          "output_type": "execute_result",
          "data": {
            "text/plain": [
              "array([1, 2, 3, 4])"
            ]
          },
          "metadata": {},
          "execution_count": 11
        }
      ]
    },
    {
      "cell_type": "code",
      "source": [
        "arr.ndim  # dimension of vector is 1 (so, 1D tensor)."
      ],
      "metadata": {
        "colab": {
          "base_uri": "https://localhost:8080/"
        },
        "id": "yDly76CkHRqd",
        "outputId": "8339e362-5ac0-43cf-d3c5-3401e47b181f"
      },
      "execution_count": 12,
      "outputs": [
        {
          "output_type": "execute_result",
          "data": {
            "text/plain": [
              "1"
            ]
          },
          "metadata": {},
          "execution_count": 12
        }
      ]
    },
    {
      "cell_type": "code",
      "source": [
        "# matrices\n",
        "\n",
        "arr_2d = np.array([[1,2,3],[4,5,6]])\n",
        "arr_2d"
      ],
      "metadata": {
        "colab": {
          "base_uri": "https://localhost:8080/"
        },
        "id": "Zhl6EUKFHTRr",
        "outputId": "7944166c-8430-4e9f-beb1-a9bf0324e4b9"
      },
      "execution_count": 15,
      "outputs": [
        {
          "output_type": "execute_result",
          "data": {
            "text/plain": [
              "array([[1, 2, 3],\n",
              "       [4, 5, 6]])"
            ]
          },
          "metadata": {},
          "execution_count": 15
        }
      ]
    },
    {
      "cell_type": "code",
      "source": [
        "arr_2d.ndim   # dimension of matrix is 2 (so, 2D tensor)"
      ],
      "metadata": {
        "colab": {
          "base_uri": "https://localhost:8080/"
        },
        "id": "Xu2q5xS_Hr5r",
        "outputId": "0493104f-347c-4866-ec6a-f5b0358dfa7b"
      },
      "execution_count": 16,
      "outputs": [
        {
          "output_type": "execute_result",
          "data": {
            "text/plain": [
              "2"
            ]
          },
          "metadata": {},
          "execution_count": 16
        }
      ]
    },
    {
      "cell_type": "code",
      "source": [
        "x,y = arr_2d.shape\n",
        "\n",
        "print(f\"number of rows: {x}\")\n",
        "print(f\"number of columns: {y}\")\n",
        "print(f\"total number of elements: {x*y}\")"
      ],
      "metadata": {
        "colab": {
          "base_uri": "https://localhost:8080/"
        },
        "id": "wNWLhzGdHzAj",
        "outputId": "7695f5e3-82b5-4376-9059-515c09b7f450"
      },
      "execution_count": 19,
      "outputs": [
        {
          "output_type": "stream",
          "name": "stdout",
          "text": [
            "number of rows: 2\n",
            "number of columns: 3\n",
            "total number of elements: 6\n"
          ]
        }
      ]
    },
    {
      "cell_type": "code",
      "source": [],
      "metadata": {
        "id": "U-9qwkFtPYat"
      },
      "execution_count": null,
      "outputs": []
    }
  ]
}